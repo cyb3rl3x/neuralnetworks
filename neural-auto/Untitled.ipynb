{
 "cells": [
  {
   "cell_type": "code",
   "execution_count": 1,
   "metadata": {},
   "outputs": [
    {
     "name": "stderr",
     "output_type": "stream",
     "text": [
      "C:\\ProgramData\\Anaconda3\\lib\\site-packages\\h5py\\__init__.py:36: FutureWarning: Conversion of the second argument of issubdtype from `float` to `np.floating` is deprecated. In future, it will be treated as `np.float64 == np.dtype(float).type`.\n",
      "  from ._conv import register_converters as _register_converters\n",
      "Using TensorFlow backend.\n"
     ]
    }
   ],
   "source": [
    "#bibliotecas\n",
    "import pandas as pd\n",
    "from keras.models import Sequential\n",
    "from keras.layers import Dense"
   ]
  },
  {
   "cell_type": "code",
   "execution_count": 2,
   "metadata": {},
   "outputs": [],
   "source": [
    "#Load dataset\n",
    "base = pd.read_csv('autos.csv', encoding = 'ISO-8859-1')"
   ]
  },
  {
   "cell_type": "code",
   "execution_count": 3,
   "metadata": {},
   "outputs": [],
   "source": [
    "#Limpeza do dataset\n",
    "base = base.drop('dateCrawled', axis = 1)\n",
    "base = base.drop('dateCreated', axis = 1)\n",
    "base = base.drop('nrOfPictures', axis = 1)\n",
    "base = base.drop('postalCode', axis = 1)\n",
    "base = base.drop('lastSeen', axis = 1)\n",
    "base = base.drop('name', axis = 1)\n",
    "base = base.drop('seller', axis = 1)\n",
    "base = base.drop('offerType', axis = 1)\n"
   ]
  },
  {
   "cell_type": "code",
   "execution_count": 4,
   "metadata": {},
   "outputs": [],
   "source": [
    "#Retirar outliers\n",
    "base = base[base.price > 10]\n",
    "base = base[base.price < 350000]"
   ]
  },
  {
   "cell_type": "code",
   "execution_count": 6,
   "metadata": {},
   "outputs": [],
   "source": [
    "#verifica se há valores faltantes no atrubuto e quais instancias possuem mais valores faltantes\n",
    "\n",
    "#base.loc[pd.isnull(base['vehicleType'])]  #valores faltantes\n",
    "#print(base['vehicleType'].value_counts()) #limousine\n",
    "\n",
    "#print(base.loc[pd.isnull(base['gearbox'])]) #valores faltantes\n",
    "#print(base['gearbox'].value_counts())       #manuell\n",
    "\n",
    "#print(base.loc[pd.isnull(base['model'])])   #valores faltantes\n",
    "#print(base['model'].value_counts())         #golf \n",
    "\n",
    "#print(base.loc[pd.isnull(base['fuelType'])]) #valores faltantes\n",
    "#print(base['fuelType'].value_counts())       #bezin\n",
    "\n",
    "#print(base.loc[pd.isnull(base['notRepairedDamage'])]) #valores faltantes\n",
    "#print(base['notRepairedDamage'].value_counts())       #nein"
   ]
  },
  {
   "cell_type": "code",
   "execution_count": 7,
   "metadata": {},
   "outputs": [],
   "source": [
    "#substituir os valores faltantes pelos valores que mais se repetem\n",
    "valores = {'vehicleType': 'limousine', \n",
    "           'gearbox': 'manuell', \n",
    "           'model':'golf', \n",
    "           'fuelType':'bezin', \n",
    "           'notRepairedDamage':'nein'}\n",
    "base = base.fillna(value = valores)"
   ]
  },
  {
   "cell_type": "code",
   "execution_count": 8,
   "metadata": {},
   "outputs": [],
   "source": [
    "#divide a base entre atributos e previsões\n",
    "previsores = base.iloc[:, 1:13].values\n",
    "#print(previsores)\n",
    "\n",
    "preco_real = base.iloc[:, 0].values\n",
    "#print(preco_real)\n"
   ]
  },
  {
   "cell_type": "code",
   "execution_count": 9,
   "metadata": {},
   "outputs": [],
   "source": [
    "#transformação de valores categóricos em numéricos\n",
    "from sklearn.preprocessing import LabelEncoder, OneHotEncoder\n",
    "label_encoder_previsores = LabelEncoder()\n",
    "\n",
    "previsores[:, 0] = label_encoder_previsores.fit_transform(previsores[:, 0] )\n",
    "previsores[:, 1] = label_encoder_previsores.fit_transform(previsores[:, 1] )\n",
    "previsores[:, 3] = label_encoder_previsores.fit_transform(previsores[:, 3] )\n",
    "previsores[:, 5] = label_encoder_previsores.fit_transform(previsores[:, 5] )\n",
    "previsores[:, 8] = label_encoder_previsores.fit_transform(previsores[:, 8] )\n",
    "previsores[:, 9] = label_encoder_previsores.fit_transform(previsores[:, 9] )\n",
    "previsores[:, 10] = label_encoder_previsores.fit_transform(previsores[:, 10] )"
   ]
  },
  {
   "cell_type": "code",
   "execution_count": null,
   "metadata": {},
   "outputs": [],
   "source": [
    "#transformação de atributos-classe categóricos em atributos-classe numéricos\n",
    "#Classe - Atributo\n",
    "#  1    - 0 0 1\n",
    "#  2    - 0 1 0\n",
    "#  3    - 0 0 1\n",
    "\n",
    "onehotencoder = OneHotEncoder(categorical_features = [0, 1, 3, 5, 8, 9, 10])\n",
    "previsores = onehotencoder.fit_transform(previsores).toarray()               "
   ]
  },
  {
   "cell_type": "code",
   "execution_count": 22,
   "metadata": {},
   "outputs": [
    {
     "name": "stdout",
     "output_type": "stream",
     "text": [
      "324\n"
     ]
    }
   ],
   "source": [
    "print(len(previsores[0]))"
   ]
  },
  {
   "cell_type": "code",
   "execution_count": 16,
   "metadata": {},
   "outputs": [
    {
     "name": "stdout",
     "output_type": "stream",
     "text": [
      "Epoch 1/100\n",
      "359291/359291 [==============================] - 10s 27us/step - loss: 3858.7383 - mean_absolute_error: 3858.7383\n",
      "Epoch 2/100\n",
      "359291/359291 [==============================] - 7s 19us/step - loss: 3298.3335 - mean_absolute_error: 3298.3335\n",
      "Epoch 3/100\n",
      "359291/359291 [==============================] - 7s 19us/step - loss: 3007.8252 - mean_absolute_error: 3007.8252\n",
      "Epoch 4/100\n",
      "359291/359291 [==============================] - 7s 19us/step - loss: 2854.1532 - mean_absolute_error: 2854.1532\n",
      "Epoch 5/100\n",
      "359291/359291 [==============================] - 7s 19us/step - loss: 2783.7030 - mean_absolute_error: 2783.7030\n",
      "Epoch 6/100\n",
      "359291/359291 [==============================] - 7s 19us/step - loss: 2750.1961 - mean_absolute_error: 2750.1961\n",
      "Epoch 7/100\n",
      "359291/359291 [==============================] - 7s 19us/step - loss: 2698.0064 - mean_absolute_error: 2698.0064\n",
      "Epoch 8/100\n",
      "359291/359291 [==============================] - 7s 19us/step - loss: 2658.2426 - mean_absolute_error: 2658.2426\n",
      "Epoch 9/100\n",
      "359291/359291 [==============================] - 7s 20us/step - loss: 2621.7857 - mean_absolute_error: 2621.7857\n",
      "Epoch 10/100\n",
      "359291/359291 [==============================] - 7s 20us/step - loss: 2588.6208 - mean_absolute_error: 2588.6208\n",
      "Epoch 11/100\n",
      "359291/359291 [==============================] - 7s 20us/step - loss: 2544.9806 - mean_absolute_error: 2544.9806\n",
      "Epoch 12/100\n",
      "359291/359291 [==============================] - 7s 20us/step - loss: 2529.6730 - mean_absolute_error: 2529.6730\n",
      "Epoch 13/100\n",
      "359291/359291 [==============================] - 7s 20us/step - loss: 2495.2900 - mean_absolute_error: 2495.2900\n",
      "Epoch 14/100\n",
      "359291/359291 [==============================] - 7s 20us/step - loss: 2483.1294 - mean_absolute_error: 2483.1294\n",
      "Epoch 15/100\n",
      "359291/359291 [==============================] - 7s 20us/step - loss: 2475.2641 - mean_absolute_error: 2475.2641\n",
      "Epoch 16/100\n",
      "359291/359291 [==============================] - 7s 20us/step - loss: 2454.0936 - mean_absolute_error: 2454.0936\n",
      "Epoch 17/100\n",
      "359291/359291 [==============================] - 7s 20us/step - loss: 2450.3872 - mean_absolute_error: 2450.3872\n",
      "Epoch 18/100\n",
      "359291/359291 [==============================] - 7s 20us/step - loss: 2440.2281 - mean_absolute_error: 2440.2281\n",
      "Epoch 19/100\n",
      "359291/359291 [==============================] - 7s 20us/step - loss: 2438.6062 - mean_absolute_error: 2438.6062\n",
      "Epoch 20/100\n",
      "359291/359291 [==============================] - 8s 21us/step - loss: 2429.0197 - mean_absolute_error: 2429.0197\n",
      "Epoch 21/100\n",
      "359291/359291 [==============================] - 7s 20us/step - loss: 2410.4463 - mean_absolute_error: 2410.4463\n",
      "Epoch 22/100\n",
      "359291/359291 [==============================] - 7s 20us/step - loss: 2421.0580 - mean_absolute_error: 2421.0580\n",
      "Epoch 23/100\n",
      "359291/359291 [==============================] - 7s 20us/step - loss: 2391.4610 - mean_absolute_error: 2391.4610\n",
      "Epoch 24/100\n",
      "359291/359291 [==============================] - 7s 20us/step - loss: 2404.5328 - mean_absolute_error: 2404.5328\n",
      "Epoch 25/100\n",
      "359291/359291 [==============================] - 7s 20us/step - loss: 2392.5428 - mean_absolute_error: 2392.5428\n",
      "Epoch 26/100\n",
      "359291/359291 [==============================] - 7s 20us/step - loss: 2382.2363 - mean_absolute_error: 2382.2363\n",
      "Epoch 27/100\n",
      "359291/359291 [==============================] - 7s 21us/step - loss: 2376.8211 - mean_absolute_error: 2376.8211\n",
      "Epoch 28/100\n",
      "359291/359291 [==============================] - 7s 21us/step - loss: 2395.3097 - mean_absolute_error: 2395.3097\n",
      "Epoch 29/100\n",
      "359291/359291 [==============================] - 8s 21us/step - loss: 2378.4921 - mean_absolute_error: 2378.4921\n",
      "Epoch 30/100\n",
      "359291/359291 [==============================] - 7s 21us/step - loss: 2373.3821 - mean_absolute_error: 2373.3821: 2s - loss: \n",
      "Epoch 31/100\n",
      "359291/359291 [==============================] - 7s 21us/step - loss: 2368.5724 - mean_absolute_error: 2368.5724\n",
      "Epoch 32/100\n",
      "359291/359291 [==============================] - 7s 21us/step - loss: 2360.7753 - mean_absolute_error: 2360.7753\n",
      "Epoch 33/100\n",
      "359291/359291 [==============================] - 7s 21us/step - loss: 2360.3496 - mean_absolute_error: 2360.3496\n",
      "Epoch 34/100\n",
      "359291/359291 [==============================] - 8s 21us/step - loss: 2358.6419 - mean_absolute_error: 2358.6419\n",
      "Epoch 35/100\n",
      "359291/359291 [==============================] - 8s 21us/step - loss: 2365.0680 - mean_absolute_error: 2365.0680\n",
      "Epoch 36/100\n",
      "359291/359291 [==============================] - 8s 21us/step - loss: 2359.0481 - mean_absolute_error: 2359.0481\n",
      "Epoch 37/100\n",
      "359291/359291 [==============================] - 7s 21us/step - loss: 2354.1989 - mean_absolute_error: 2354.1989\n",
      "Epoch 38/100\n",
      "359291/359291 [==============================] - 7s 20us/step - loss: 2352.8308 - mean_absolute_error: 2352.8308\n",
      "Epoch 39/100\n",
      "359291/359291 [==============================] - 7s 20us/step - loss: 2336.1160 - mean_absolute_error: 2336.1160\n",
      "Epoch 40/100\n",
      "359291/359291 [==============================] - 7s 20us/step - loss: 2325.4507 - mean_absolute_error: 2325.4507\n",
      "Epoch 41/100\n",
      "359291/359291 [==============================] - 7s 20us/step - loss: 2341.4375 - mean_absolute_error: 2341.4375\n",
      "Epoch 42/100\n",
      "359291/359291 [==============================] - 7s 20us/step - loss: 2313.6950 - mean_absolute_error: 2313.6950\n",
      "Epoch 43/100\n",
      "359291/359291 [==============================] - 7s 20us/step - loss: 2316.5065 - mean_absolute_error: 2316.5065\n",
      "Epoch 44/100\n",
      "359291/359291 [==============================] - 7s 20us/step - loss: 2328.1460 - mean_absolute_error: 2328.1460\n",
      "Epoch 45/100\n",
      "359291/359291 [==============================] - 7s 20us/step - loss: 2330.6518 - mean_absolute_error: 2330.6518\n",
      "Epoch 46/100\n",
      "359291/359291 [==============================] - 7s 20us/step - loss: 2301.2496 - mean_absolute_error: 2301.2496\n",
      "Epoch 47/100\n",
      "359291/359291 [==============================] - 7s 20us/step - loss: 2316.2612 - mean_absolute_error: 2316.2612\n",
      "Epoch 48/100\n",
      "359291/359291 [==============================] - 7s 20us/step - loss: 2308.7779 - mean_absolute_error: 2308.7779\n",
      "Epoch 49/100\n",
      "359291/359291 [==============================] - 7s 20us/step - loss: 2312.6304 - mean_absolute_error: 2312.6304\n",
      "Epoch 50/100\n",
      "359291/359291 [==============================] - 7s 20us/step - loss: 2306.6421 - mean_absolute_error: 2306.6421\n",
      "Epoch 51/100\n",
      "359291/359291 [==============================] - 7s 20us/step - loss: 2310.1817 - mean_absolute_error: 2310.1817\n",
      "Epoch 52/100\n",
      "359291/359291 [==============================] - 7s 20us/step - loss: 2313.5490 - mean_absolute_error: 2313.5490\n",
      "Epoch 53/100\n",
      "359291/359291 [==============================] - 7s 21us/step - loss: 2307.5311 - mean_absolute_error: 2307.5311\n",
      "Epoch 54/100\n",
      "359291/359291 [==============================] - 7s 21us/step - loss: 2314.2780 - mean_absolute_error: 2314.2780\n",
      "Epoch 55/100\n",
      "359291/359291 [==============================] - 7s 21us/step - loss: 2299.5325 - mean_absolute_error: 2299.5325\n",
      "Epoch 56/100\n",
      "359291/359291 [==============================] - 7s 21us/step - loss: 2296.6532 - mean_absolute_error: 2296.6532\n",
      "Epoch 57/100\n",
      "359291/359291 [==============================] - 7s 21us/step - loss: 2285.5475 - mean_absolute_error: 2285.5475\n",
      "Epoch 58/100\n",
      "359291/359291 [==============================] - 7s 21us/step - loss: 2296.7892 - mean_absolute_error: 2296.7892\n",
      "Epoch 59/100\n",
      "359291/359291 [==============================] - 7s 21us/step - loss: 2297.4551 - mean_absolute_error: 2297.4551\n",
      "Epoch 60/100\n",
      "359291/359291 [==============================] - 7s 21us/step - loss: 2297.8038 - mean_absolute_error: 2297.8038\n",
      "Epoch 61/100\n",
      "359291/359291 [==============================] - 7s 21us/step - loss: 2296.1656 - mean_absolute_error: 2296.1656\n",
      "Epoch 62/100\n",
      "359291/359291 [==============================] - 7s 21us/step - loss: 2284.0091 - mean_absolute_error: 2284.0091\n",
      "Epoch 63/100\n",
      "359291/359291 [==============================] - 7s 21us/step - loss: 2295.3645 - mean_absolute_error: 2295.3645\n",
      "Epoch 64/100\n",
      "359291/359291 [==============================] - 7s 21us/step - loss: 2274.1472 - mean_absolute_error: 2274.1472\n",
      "Epoch 65/100\n",
      "359291/359291 [==============================] - 7s 20us/step - loss: 2278.9793 - mean_absolute_error: 2278.9793\n"
     ]
    },
    {
     "name": "stdout",
     "output_type": "stream",
     "text": [
      "Epoch 66/100\n",
      "359291/359291 [==============================] - 7s 18us/step - loss: 2287.9335 - mean_absolute_error: 2287.9335\n",
      "Epoch 67/100\n",
      "359291/359291 [==============================] - 7s 19us/step - loss: 2275.8487 - mean_absolute_error: 2275.8487\n",
      "Epoch 68/100\n",
      "359291/359291 [==============================] - 7s 19us/step - loss: 2284.5842 - mean_absolute_error: 2284.5842\n",
      "Epoch 69/100\n",
      "359291/359291 [==============================] - 7s 19us/step - loss: 2280.0325 - mean_absolute_error: 2280.0325\n",
      "Epoch 70/100\n",
      "359291/359291 [==============================] - 7s 19us/step - loss: 2273.8031 - mean_absolute_error: 2273.8031\n",
      "Epoch 71/100\n",
      "359291/359291 [==============================] - 7s 19us/step - loss: 2263.8658 - mean_absolute_error: 2263.8658\n",
      "Epoch 72/100\n",
      "359291/359291 [==============================] - 7s 19us/step - loss: 2280.6122 - mean_absolute_error: 2280.6122\n",
      "Epoch 73/100\n",
      "359291/359291 [==============================] - 7s 19us/step - loss: 2269.4137 - mean_absolute_error: 2269.4137\n",
      "Epoch 74/100\n",
      "359291/359291 [==============================] - 7s 19us/step - loss: 2264.4214 - mean_absolute_error: 2264.4214\n",
      "Epoch 75/100\n",
      "359291/359291 [==============================] - 7s 19us/step - loss: 2263.5707 - mean_absolute_error: 2263.5707\n",
      "Epoch 76/100\n",
      "359291/359291 [==============================] - 7s 19us/step - loss: 2265.3845 - mean_absolute_error: 2265.3845\n",
      "Epoch 77/100\n",
      "359291/359291 [==============================] - 7s 19us/step - loss: 2266.4643 - mean_absolute_error: 2266.4643\n",
      "Epoch 78/100\n",
      "359291/359291 [==============================] - 7s 19us/step - loss: 2255.0717 - mean_absolute_error: 2255.0717\n",
      "Epoch 79/100\n",
      "359291/359291 [==============================] - 7s 19us/step - loss: 2262.6451 - mean_absolute_error: 2262.6451\n",
      "Epoch 80/100\n",
      "359291/359291 [==============================] - 7s 19us/step - loss: 2251.2096 - mean_absolute_error: 2251.2096\n",
      "Epoch 81/100\n",
      "359291/359291 [==============================] - 7s 19us/step - loss: 2257.5683 - mean_absolute_error: 2257.5683\n",
      "Epoch 82/100\n",
      "359291/359291 [==============================] - 7s 19us/step - loss: 2248.6140 - mean_absolute_error: 2248.6140\n",
      "Epoch 83/100\n",
      "359291/359291 [==============================] - 7s 20us/step - loss: 2258.9044 - mean_absolute_error: 2258.9044\n",
      "Epoch 84/100\n",
      "359291/359291 [==============================] - 7s 20us/step - loss: 2259.2698 - mean_absolute_error: 2259.2698\n",
      "Epoch 85/100\n",
      "359291/359291 [==============================] - 7s 20us/step - loss: 2245.4436 - mean_absolute_error: 2245.4436\n",
      "Epoch 86/100\n",
      "359291/359291 [==============================] - 7s 20us/step - loss: 2250.1180 - mean_absolute_error: 2250.1180\n",
      "Epoch 87/100\n",
      "359291/359291 [==============================] - 7s 20us/step - loss: 2256.1757 - mean_absolute_error: 2256.1757\n",
      "Epoch 88/100\n",
      "359291/359291 [==============================] - 7s 20us/step - loss: 2244.6549 - mean_absolute_error: 2244.6549\n",
      "Epoch 89/100\n",
      "359291/359291 [==============================] - 7s 20us/step - loss: 2241.2411 - mean_absolute_error: 2241.2411\n",
      "Epoch 90/100\n",
      "359291/359291 [==============================] - 7s 20us/step - loss: 2251.9396 - mean_absolute_error: 2251.9396\n",
      "Epoch 91/100\n",
      "359291/359291 [==============================] - 7s 20us/step - loss: 2240.0017 - mean_absolute_error: 2240.0017\n",
      "Epoch 92/100\n",
      "359291/359291 [==============================] - 7s 20us/step - loss: 2249.1364 - mean_absolute_error: 2249.1364\n",
      "Epoch 93/100\n",
      "359291/359291 [==============================] - 7s 20us/step - loss: 2253.6495 - mean_absolute_error: 2253.6495\n",
      "Epoch 94/100\n",
      "359291/359291 [==============================] - 7s 20us/step - loss: 2240.3648 - mean_absolute_error: 2240.3648\n",
      "Epoch 95/100\n",
      "359291/359291 [==============================] - 7s 20us/step - loss: 2237.7211 - mean_absolute_error: 2237.7211\n",
      "Epoch 96/100\n",
      "359291/359291 [==============================] - 7s 20us/step - loss: 2241.2447 - mean_absolute_error: 2241.2447\n",
      "Epoch 97/100\n",
      "359291/359291 [==============================] - 7s 20us/step - loss: 2236.9138 - mean_absolute_error: 2236.9138\n",
      "Epoch 98/100\n",
      "359291/359291 [==============================] - 7s 20us/step - loss: 2229.2966 - mean_absolute_error: 2229.2966\n",
      "Epoch 99/100\n",
      "359291/359291 [==============================] - 8s 22us/step - loss: 2230.4930 - mean_absolute_error: 2230.4930\n",
      "Epoch 100/100\n",
      "359291/359291 [==============================] - 7s 21us/step - loss: 2249.1834 - mean_absolute_error: 2249.1834\n"
     ]
    },
    {
     "data": {
      "text/plain": [
       "<keras.callbacks.History at 0x2da5b42c828>"
      ]
     },
     "execution_count": 16,
     "metadata": {},
     "output_type": "execute_result"
    }
   ],
   "source": [
    "#Estrutura da rede neural para regressão (previsão de um valor)\n",
    "regressor = Sequential()\n",
    "regressor.add(Dense(units = 158, activation = 'relu', input_dim = 317))\n",
    "regressor.add(Dense(units = 158, activation = 'relu'))\n",
    "# para regressão utiliza-se a função linear\n",
    "regressor.add(Dense(units = 1, activation = 'linear'))\n",
    "#mean_absolute_error(erro médio absoluto => positivo)\n",
    "regressor.compile(loss = 'mean_absolute_error', optimizer = 'adam', metrics = ['mean_absolute_error'])\n",
    "regressor.fit(previsores, preco_real, batch_size = 300, epochs = 100)\n"
   ]
  },
  {
   "cell_type": "code",
   "execution_count": 20,
   "metadata": {},
   "outputs": [
    {
     "name": "stdout",
     "output_type": "stream",
     "text": [
      "[[ 1272.9155]\n",
      " [11180.588 ]\n",
      " [12665.372 ]\n",
      " ...\n",
      " [ 5949.732 ]\n",
      " [ 3326.394 ]\n",
      " [26825.188 ]]\n",
      "[  480 18300  9800 ...  9200  3400 28990]\n",
      "5501.2686\n",
      "5916.833945186492\n"
     ]
    }
   ],
   "source": [
    "previsoes = regressor.predict(previsores)"
   ]
  },
  {
   "cell_type": "code",
   "execution_count": null,
   "metadata": {},
   "outputs": [],
   "source": []
  }
 ],
 "metadata": {
  "kernelspec": {
   "display_name": "Python 3",
   "language": "python",
   "name": "python3"
  },
  "language_info": {
   "codemirror_mode": {
    "name": "ipython",
    "version": 3
   },
   "file_extension": ".py",
   "mimetype": "text/x-python",
   "name": "python",
   "nbconvert_exporter": "python",
   "pygments_lexer": "ipython3",
   "version": "3.6.4"
  }
 },
 "nbformat": 4,
 "nbformat_minor": 2
}
